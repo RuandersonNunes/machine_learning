{
 "cells": [
  {
   "cell_type": "markdown",
   "metadata": {},
   "source": [
    "### 1. Análise do problema\n",
    "### 2. Exploração, tratamento e análise de dados\n",
    "### 3. Pré processamento dos dados\n",
    "### 4. Escolha do grupo de algoritmos que podem ser utilizados\n",
    "### 5. Criação dos algoritmos de machine learning\n",
    "### 6. Comparação e escolha do melhor algoritmo"
   ]
  }
 ],
 "metadata": {
  "language_info": {
   "name": "python"
  }
 },
 "nbformat": 4,
 "nbformat_minor": 2
}
